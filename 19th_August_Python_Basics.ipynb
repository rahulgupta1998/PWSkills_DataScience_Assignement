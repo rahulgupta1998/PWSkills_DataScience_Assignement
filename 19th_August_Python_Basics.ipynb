{
 "cells": [
  {
   "cell_type": "markdown",
   "id": "05a51d19-6c35-46a3-8d8b-037d43d5b886",
   "metadata": {},
   "source": [
    "Python Basics Variable"
   ]
  },
  {
   "cell_type": "markdown",
   "id": "674237e1-38a6-43e8-8235-2b2c4e77987d",
   "metadata": {},
   "source": [
    "1. Declare two variables, `x` and `y`, and assign them integer values. Swap the\n",
    "values of these variables without using any temporary variable."
   ]
  },
  {
   "cell_type": "code",
   "execution_count": 3,
   "id": "5b0045ae-b556-4099-afa7-e440b333babd",
   "metadata": {},
   "outputs": [
    {
     "name": "stdout",
     "output_type": "stream",
     "text": [
      "x = 3\n",
      "y = 2\n"
     ]
    }
   ],
   "source": [
    "x = 2 \n",
    "y = 3 \n",
    "x = x + y \n",
    "y = x - y \n",
    "x = x - y \n",
    "print (\"x =\", x)\n",
    "print (\"y =\", y)"
   ]
  },
  {
   "cell_type": "markdown",
   "id": "0426f236-083e-4c30-9c1c-68eb8f491ec1",
   "metadata": {},
   "source": [
    "2. Create a program that calculates the area of a rectangle. Take the length and\n",
    "width as inputs from the user and store them in variables. Calculate and\n",
    "display the area."
   ]
  },
  {
   "cell_type": "code",
   "execution_count": 7,
   "id": "d0c38298-8858-42ae-972b-3d83df351327",
   "metadata": {},
   "outputs": [
    {
     "name": "stdin",
     "output_type": "stream",
     "text": [
      "Enter the length :  3\n",
      "Enter the width :  4\n"
     ]
    },
    {
     "name": "stdout",
     "output_type": "stream",
     "text": [
      "Area of Rectange :  12\n"
     ]
    }
   ],
   "source": [
    "length = int(input(\"Enter the length : \"))\n",
    "width = int(input(\"Enter the width : \"))\n",
    "Display = length * width\n",
    "print(\"Area of Rectange : \",Display)"
   ]
  },
  {
   "cell_type": "markdown",
   "id": "96be7a70-e0dc-49d5-9376-0ff2ca9aefe5",
   "metadata": {},
   "source": [
    "3. Write a Python program that converts temperatures from Celsius to\n",
    "Fahrenheit. Take the temperature in Celsius as input, store it in a variable,\n",
    "convert it to Fahrenheit, and display the result."
   ]
  },
  {
   "cell_type": "code",
   "execution_count": 8,
   "id": "8866bc7b-e517-4a52-a1d1-f484bbf365d4",
   "metadata": {},
   "outputs": [
    {
     "name": "stdin",
     "output_type": "stream",
     "text": [
      "Enter the temperature in celsius 3\n"
     ]
    },
    {
     "name": "stdout",
     "output_type": "stream",
     "text": [
      "Temperature in fahrenheit is :  37.4\n"
     ]
    }
   ],
   "source": [
    "a = int(input(\"Enter the temperature in celsius\"))\n",
    "f = (a * (9/5))+32\n",
    "print(\"Temperature in fahrenheit is : \",f)"
   ]
  },
  {
   "cell_type": "markdown",
   "id": "9849b948-5d51-4763-9639-c1df062acf7e",
   "metadata": {},
   "source": [
    "String Based Questions"
   ]
  },
  {
   "cell_type": "markdown",
   "id": "25eebc9f-81ca-4e63-9e85-9ef715ec57a3",
   "metadata": {},
   "source": [
    "1. Write a Python program that takes a string as input and prints the length of\n",
    "the string."
   ]
  },
  {
   "cell_type": "code",
   "execution_count": 11,
   "id": "ce325931-1c9a-4642-855f-2466d60c3cb3",
   "metadata": {},
   "outputs": [
    {
     "name": "stdin",
     "output_type": "stream",
     "text": [
      "Enter the string abc\n"
     ]
    },
    {
     "name": "stdout",
     "output_type": "stream",
     "text": [
      "The Length of the string is :  3\n"
     ]
    }
   ],
   "source": [
    "le = input(\"Enter the string\")\n",
    "a = len(le)\n",
    "print(\"The Length of the string is : \",a)"
   ]
  },
  {
   "cell_type": "markdown",
   "id": "8614e066-e9ae-4054-a746-a6d81aca2b5a",
   "metadata": {},
   "source": [
    "2. Create a program that takes a sentence from the user and counts the number\n",
    "of vowels (a, e, i, o, u) in the string."
   ]
  },
  {
   "cell_type": "code",
   "execution_count": 17,
   "id": "60d1d7ab-8422-4b7b-b9f7-56c0c29efdec",
   "metadata": {},
   "outputs": [
    {
     "name": "stdin",
     "output_type": "stream",
     "text": [
      "Enter the string bhc hgeiourxjdkc ehcns\n"
     ]
    },
    {
     "name": "stdout",
     "output_type": "stream",
     "text": [
      "Number of Vowels are 5\n"
     ]
    }
   ],
   "source": [
    "ch = input(\"Enter the string\")\n",
    "count = 0\n",
    "for i in ch:\n",
    "    if i in ('a','e','i','o','u'):\n",
    "        count = count + 1\n",
    "print(\"Number of Vowels are\",count)\n"
   ]
  },
  {
   "cell_type": "markdown",
   "id": "9d0627bb-5ae5-48fa-8db0-105068544eb4",
   "metadata": {},
   "source": [
    "3. Given a string, reverse the order of characters using string slicing and print\n",
    "the reversed string."
   ]
  },
  {
   "cell_type": "code",
   "execution_count": 19,
   "id": "ef72f420-78a0-4148-a588-b0d956068e5a",
   "metadata": {},
   "outputs": [
    {
     "name": "stdin",
     "output_type": "stream",
     "text": [
      "Enter the string hello\n"
     ]
    },
    {
     "name": "stdout",
     "output_type": "stream",
     "text": [
      "Reverse String is olleh\n"
     ]
    }
   ],
   "source": [
    "st = input(\"Enter the string\")\n",
    "b = st[::-1]\n",
    "print(\"Reverse String is\",b)"
   ]
  },
  {
   "cell_type": "markdown",
   "id": "2a82338e-f12b-4e22-93ab-ffd85898d806",
   "metadata": {},
   "source": [
    "4. Write a program that takes a string as input and checks if it is a palindrome\n",
    "(reads the same forwards and backwards)."
   ]
  },
  {
   "cell_type": "code",
   "execution_count": 1,
   "id": "73aecdd0-aecb-42a2-be2d-f091b7d3432e",
   "metadata": {},
   "outputs": [
    {
     "name": "stdin",
     "output_type": "stream",
     "text": [
      "Enter the string mym\n"
     ]
    },
    {
     "name": "stdout",
     "output_type": "stream",
     "text": [
      "String is Pallindrome\n"
     ]
    }
   ],
   "source": [
    "pl = input(\"Enter the string\")\n",
    "if pl == pl[::-1]:\n",
    "    print(\"String is Pallindrome\")\n",
    "else:\n",
    "    print(\"String is not Pallindrome\")"
   ]
  },
  {
   "cell_type": "markdown",
   "id": "a8fb6535-035f-43a1-83f6-5dc1d0ac5187",
   "metadata": {},
   "source": [
    "5. Create a program that takes a string as input and removes all the spaces from\n",
    "it. Print the modified string without spaces."
   ]
  },
  {
   "cell_type": "code",
   "execution_count": 10,
   "id": "c7f28d7e-fb65-4629-a0bb-5eb87ba4b799",
   "metadata": {},
   "outputs": [
    {
     "name": "stdin",
     "output_type": "stream",
     "text": [
      "Enter the string hello rahul\n"
     ]
    },
    {
     "name": "stdout",
     "output_type": "stream",
     "text": [
      "hellorahul\n"
     ]
    }
   ],
   "source": [
    "rm = input(\"Enter the string\")\n",
    "abc = rm.replace(\" \",\"\")\n",
    "print(abc)"
   ]
  },
  {
   "cell_type": "code",
   "execution_count": null,
   "id": "0669654f-dcdc-4469-bfae-a871e4995d2d",
   "metadata": {},
   "outputs": [],
   "source": []
  }
 ],
 "metadata": {
  "kernelspec": {
   "display_name": "Python 3 (ipykernel)",
   "language": "python",
   "name": "python3"
  },
  "language_info": {
   "codemirror_mode": {
    "name": "ipython",
    "version": 3
   },
   "file_extension": ".py",
   "mimetype": "text/x-python",
   "name": "python",
   "nbconvert_exporter": "python",
   "pygments_lexer": "ipython3",
   "version": "3.10.8"
  }
 },
 "nbformat": 4,
 "nbformat_minor": 5
}
